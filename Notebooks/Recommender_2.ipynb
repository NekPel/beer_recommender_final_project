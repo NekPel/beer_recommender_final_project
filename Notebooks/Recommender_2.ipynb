{
 "cells": [
  {
   "cell_type": "code",
   "execution_count": 1,
   "metadata": {},
   "outputs": [],
   "source": [
    "import pandas as pd\n",
    "import numpy as np\n",
    "import sklearn.manifold as sk_m\n",
    "import matplotlib.pyplot as plt\n",
    "import seaborn as sns\n",
    "from sklearn.neighbors import NearestNeighbors"
   ]
  },
  {
   "cell_type": "code",
   "execution_count": 2,
   "metadata": {},
   "outputs": [],
   "source": [
    "df = pd.read_csv(\"beer_reviews.csv\")"
   ]
  },
  {
   "cell_type": "code",
   "execution_count": 3,
   "metadata": {},
   "outputs": [],
   "source": [
    "beer_abv_null = list(df[\"beer_beerid\"].loc[df[\"beer_abv\"].isna() == True].index)\n",
    "df.drop(index = beer_abv_null, inplace=True)"
   ]
  },
  {
   "cell_type": "code",
   "execution_count": 4,
   "metadata": {},
   "outputs": [],
   "source": [
    "df_new=df[[\"review_aroma\", \n",
    "           \"review_appearance\",\n",
    "           \"beer_style\",\n",
    "           \"review_palate\",\n",
    "           \"review_taste\",\n",
    "           \"review_profilename\"]]"
   ]
  },
  {
   "cell_type": "code",
   "execution_count": 5,
   "metadata": {},
   "outputs": [],
   "source": [
    "beer_features=df[[\"beer_beerid\",\n",
    "                  \"brewery_name\",\n",
    "                  \"beer_name\",\n",
    "                  \"beer_style\",\n",
    "                  \"review_overall\",\n",
    "                  \"beer_abv\",\n",
    "                  \"review_profilename\"]].groupby(\"beer_beerid\").agg({\"brewery_name\":\"first\",\n",
    "                                                                    \"beer_name\":\"first\",\n",
    "                                                                    \"beer_style\":\"first\",\n",
    "                                                                    \"review_overall\":\"mean\",\n",
    "                                                                    \"beer_abv\":\"mean\",\n",
    "                                                                    \"review_profilename\":\"count\"}).reset_index()"
   ]
  },
  {
   "cell_type": "code",
   "execution_count": 6,
   "metadata": {},
   "outputs": [],
   "source": [
    "beer_style_features=df_new.groupby('beer_style').mean()"
   ]
  },
  {
   "cell_type": "code",
   "execution_count": 7,
   "metadata": {},
   "outputs": [
    {
     "data": {
      "text/plain": [
       "NearestNeighbors(algorithm='brute', metric='euclidean', n_jobs=-1)"
      ]
     },
     "execution_count": 7,
     "metadata": {},
     "output_type": "execute_result"
    }
   ],
   "source": [
    "model_knn = NearestNeighbors(metric=\"euclidean\",\n",
    "                             algorithm=\"brute\",\n",
    "                             n_jobs=-1)\n",
    "\n",
    "model_knn.fit(beer_style_features)"
   ]
  },
  {
   "cell_type": "code",
   "execution_count": 8,
   "metadata": {},
   "outputs": [],
   "source": [
    "def user_feature(user_features):\n",
    "    user_features_df= pd.DataFrame(user_features, index= [0])\n",
    "    return user_features_df "
   ]
  },
  {
   "cell_type": "code",
   "execution_count": 9,
   "metadata": {},
   "outputs": [],
   "source": [
    "def model(user_feat):\n",
    "    prediction_knn = model_knn.kneighbors(user_feat, n_neighbors=3)\n",
    "    return prediction_knn"
   ]
  },
  {
   "cell_type": "code",
   "execution_count": 10,
   "metadata": {},
   "outputs": [],
   "source": [
    "def dis_recommendetions(prediction_knn):\n",
    "    print('Based on your preferences we recommend:')\n",
    "    print('')\n",
    "    for i, beer_style in enumerate(prediction_knn[1][0]):\n",
    "        style=beer_style_features.iloc[beer_style].name\n",
    "        beer_style_df=beer_features.loc[beer_features[\"beer_style\"]==style].sort_values(\"review_profilename\",ascending=False).head(3)\n",
    "        print('')\n",
    "        print(f\"-{i+1}-\\nBeer Style: {style}, we suggest the 3 most popular beers:\")\n",
    "        print('----------------------------------------------------------------')\n",
    "        for index in beer_style_df.index:\n",
    "            print('==> {}:\\n    - Alcohol:   {}%\\n    - Brewery:   {}\\n    - Reviews:   {}\\n    - Avg Score: {}'.format(beer_style_df.loc[index][\"beer_name\"],round(beer_style_df.loc[index][\"beer_abv\"],1),beer_style_df.loc[index][\"brewery_name\"],beer_style_df.loc[index][\"review_profilename\"],round(beer_style_df.loc[index][\"review_overall\"],1)))\n",
    "            print('')"
   ]
  },
  {
   "cell_type": "code",
   "execution_count": 11,
   "metadata": {},
   "outputs": [],
   "source": [
    "def beer_rec(user_features):\n",
    "    user_feat = user_feature(user_features)\n",
    "    knn_model = model(user_feat)\n",
    "    dis_recommendetions(knn_model)\n",
    "    "
   ]
  },
  {
   "cell_type": "code",
   "execution_count": 12,
   "metadata": {},
   "outputs": [
    {
     "name": "stdout",
     "output_type": "stream",
     "text": [
      "Based on your preferences we recommend:\n",
      "\n",
      "\n",
      "-1-\n",
      "Beer Style: Euro Strong Lager, we suggest the 3 most popular beers:\n",
      "----------------------------------------------------------------\n",
      "==> Baltika #9 Extra (Strong):\n",
      "    - Alcohol:   8.0%\n",
      "    - Brewery:   Baltika Breweries\n",
      "    - Reviews:   344\n",
      "    - Avg Score: 2.8\n",
      "\n",
      "==> Elephant Beer:\n",
      "    - Alcohol:   7.2%\n",
      "    - Brewery:   Carlsberg Danmark A/S\n",
      "    - Reviews:   270\n",
      "    - Avg Score: 2.8\n",
      "\n",
      "==> Lion Imperial Premium Malt Pilsner:\n",
      "    - Alcohol:   8.8%\n",
      "    - Brewery:   Ceylon / Lion Brewery Limited\n",
      "    - Reviews:   113\n",
      "    - Avg Score: 2.9\n",
      "\n",
      "\n",
      "-2-\n",
      "Beer Style: Happoshu, we suggest the 3 most popular beers:\n",
      "----------------------------------------------------------------\n",
      "==> Sparkling Hop:\n",
      "    - Alcohol:   5.0%\n",
      "    - Brewery:   Kirin Brewery Company, Limited\n",
      "    - Reviews:   34\n",
      "    - Avg Score: 3.3\n",
      "\n",
      "==> Kirin Tanrei:\n",
      "    - Alcohol:   5.0%\n",
      "    - Brewery:   Kirin Brewery Company, Limited\n",
      "    - Reviews:   33\n",
      "    - Avg Score: 3.0\n",
      "\n",
      "==> Asahi Honnama Red:\n",
      "    - Alcohol:   5.5%\n",
      "    - Brewery:   Asahi Breweries Ltd\n",
      "    - Reviews:   18\n",
      "    - Avg Score: 3.0\n",
      "\n",
      "\n",
      "-3-\n",
      "Beer Style: Low Alcohol Beer, we suggest the 3 most popular beers:\n",
      "----------------------------------------------------------------\n",
      "==> O'Doul's:\n",
      "    - Alcohol:   0.5%\n",
      "    - Brewery:   Anheuser-Busch\n",
      "    - Reviews:   139\n",
      "    - Avg Score: 2.5\n",
      "\n",
      "==> O'Doul's Amber:\n",
      "    - Alcohol:   0.5%\n",
      "    - Brewery:   Anheuser-Busch\n",
      "    - Reviews:   102\n",
      "    - Avg Score: 2.4\n",
      "\n",
      "==> Kaliber:\n",
      "    - Alcohol:   0.5%\n",
      "    - Brewery:   Guinness Ltd.\n",
      "    - Reviews:   81\n",
      "    - Avg Score: 2.6\n",
      "\n"
     ]
    }
   ],
   "source": [
    "beer_rec(user_features= {\"review_aroma\" : 5,\n",
    "                         \"review_appearance\" :2 ,\n",
    "                         \"review_palate\": 3,\n",
    "                         \"review_taste\": 1})"
   ]
  }
 ],
 "metadata": {
  "kernelspec": {
   "display_name": "Python 3",
   "language": "python",
   "name": "python3"
  },
  "language_info": {
   "codemirror_mode": {
    "name": "ipython",
    "version": 3
   },
   "file_extension": ".py",
   "mimetype": "text/x-python",
   "name": "python",
   "nbconvert_exporter": "python",
   "pygments_lexer": "ipython3",
   "version": "3.8.3"
  },
  "varInspector": {
   "cols": {
    "lenName": 16,
    "lenType": 16,
    "lenVar": 40
   },
   "kernels_config": {
    "python": {
     "delete_cmd_postfix": "",
     "delete_cmd_prefix": "del ",
     "library": "var_list.py",
     "varRefreshCmd": "print(var_dic_list())"
    },
    "r": {
     "delete_cmd_postfix": ") ",
     "delete_cmd_prefix": "rm(",
     "library": "var_list.r",
     "varRefreshCmd": "cat(var_dic_list()) "
    }
   },
   "types_to_exclude": [
    "module",
    "function",
    "builtin_function_or_method",
    "instance",
    "_Feature"
   ],
   "window_display": false
  }
 },
 "nbformat": 4,
 "nbformat_minor": 4
}
